{
 "cells": [
  {
   "cell_type": "code",
   "execution_count": 1,
   "id": "fd1792b2",
   "metadata": {},
   "outputs": [
    {
     "name": "stdout",
     "output_type": "stream",
     "text": [
      "Hello World! I wonder why that is always the default coding text to start with\n",
      "300\n",
      "100\n",
      "20000\n",
      "2.0\n",
      "Bellevue University\n"
     ]
    }
   ],
   "source": [
    "import Week2_KKomati"
   ]
  },
  {
   "cell_type": "code",
   "execution_count": null,
   "id": "b1d9a8dc",
   "metadata": {},
   "outputs": [],
   "source": []
  }
 ],
 "metadata": {
  "kernelspec": {
   "display_name": "Python 3",
   "language": "python",
   "name": "python3"
  },
  "language_info": {
   "codemirror_mode": {
    "name": "ipython",
    "version": 3
   },
   "file_extension": ".py",
   "mimetype": "text/x-python",
   "name": "python",
   "nbconvert_exporter": "python",
   "pygments_lexer": "ipython3",
   "version": "3.8.8"
  }
 },
 "nbformat": 4,
 "nbformat_minor": 5
}
