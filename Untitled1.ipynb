{
 "cells": [
  {
   "cell_type": "code",
   "execution_count": 11,
   "id": "64348c57",
   "metadata": {},
   "outputs": [],
   "source": [
    "import Week2_KKomati"
   ]
  },
  {
   "cell_type": "code",
   "execution_count": null,
   "id": "e2006289",
   "metadata": {},
   "outputs": [],
   "source": []
  },
  {
   "cell_type": "code",
   "execution_count": 12,
   "id": "1df29c43",
   "metadata": {},
   "outputs": [],
   "source": [
    "import Week2_KKomati"
   ]
  }
 ],
 "metadata": {
  "kernelspec": {
   "display_name": "Python 3",
   "language": "python",
   "name": "python3"
  },
  "language_info": {
   "codemirror_mode": {
    "name": "ipython",
    "version": 3
   },
   "file_extension": ".py",
   "mimetype": "text/x-python",
   "name": "python",
   "nbconvert_exporter": "python",
   "pygments_lexer": "ipython3",
   "version": "3.8.8"
  }
 },
 "nbformat": 4,
 "nbformat_minor": 5
}
