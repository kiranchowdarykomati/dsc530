{
 "cells": [
  {
   "cell_type": "code",
   "execution_count": 19,
   "id": "3c7b5346",
   "metadata": {},
   "outputs": [],
   "source": [
    "import scipy.stats"
   ]
  },
  {
   "cell_type": "code",
   "execution_count": 20,
   "id": "3d154a20",
   "metadata": {},
   "outputs": [],
   "source": [
    "# the distribution of heights is roughly normal at μ = 178 cm and σ = 7.7 cm for men\n",
    "mu = 178\n",
    "sigma = 7.7\n",
    "dist = scipy.stats.norm(loc=mu, scale=sigma)"
   ]
  },
  {
   "cell_type": "code",
   "execution_count": 21,
   "id": "9914fce6",
   "metadata": {},
   "outputs": [
    {
     "name": "stdout",
     "output_type": "stream",
     "text": [
      "0.3420946829459531\n"
     ]
    }
   ],
   "source": [
    "# Convert heights 5′10″ and 6′1″ to cms\n",
    "\n",
    "low = dist.cdf(177.8)    # Percent less that 5'10\"\n",
    "high = dist.cdf(185.4)   # Percent less than 6'1\"\n",
    "print (high-low) #Calculate the difference to get between 5'10\" and 6'1\""
   ]
  }
 ],
 "metadata": {
  "kernelspec": {
   "display_name": "Python 3",
   "language": "python",
   "name": "python3"
  },
  "language_info": {
   "codemirror_mode": {
    "name": "ipython",
    "version": 3
   },
   "file_extension": ".py",
   "mimetype": "text/x-python",
   "name": "python",
   "nbconvert_exporter": "python",
   "pygments_lexer": "ipython3",
   "version": "3.8.8"
  }
 },
 "nbformat": 4,
 "nbformat_minor": 5
}
