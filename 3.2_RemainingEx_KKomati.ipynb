{
 "cells": [
  {
   "cell_type": "code",
   "execution_count": 1,
   "id": "956c8fb2",
   "metadata": {},
   "outputs": [
    {
     "name": "stdout",
     "output_type": "stream",
     "text": [
      "0     2610\n",
      "2     1432\n",
      "1     1267\n",
      "3     1110\n",
      "4      611\n",
      "5      305\n",
      "6      150\n",
      "7       80\n",
      "8       40\n",
      "9       21\n",
      "10       9\n",
      "11       3\n",
      "12       2\n",
      "14       2\n",
      "19       1\n",
      "Name: pregnum, dtype: int64\n",
      "3.2_ex1.2_KKomati.py: All tests passed.\n"
     ]
    }
   ],
   "source": [
    "%run 3.2_ex1.2_KKomati.py"
   ]
  },
  {
   "cell_type": "code",
   "execution_count": 3,
   "id": "78ed08b0",
   "metadata": {},
   "outputs": [
    {
     "name": "stdout",
     "output_type": "stream",
     "text": [
      "Mean\n",
      "First babies 7.201094430437772\n",
      "Others 7.325855614973262\n",
      "Variance\n",
      "First babies 2.0180273009157768\n",
      "Others 1.9437810258964572\n",
      "Difference in lbs -0.12476118453549034\n",
      "Difference in oz -1.9961789525678455\n",
      "Difference relative to mean (%age points) -1.7171423678372415\n",
      "Cohen d -0.088672927072602\n",
      "Mode of preg length 39\n",
      "39 4693\n",
      "40 1116\n",
      "38 607\n",
      "41 587\n",
      "37 455\n",
      "3.2_ex2.4_KKomati.py: All tests passed.\n"
     ]
    }
   ],
   "source": [
    "%run 3.2_ex2.4_KKomati.py"
   ]
  }
 ],
 "metadata": {
  "kernelspec": {
   "display_name": "Python 3",
   "language": "python",
   "name": "python3"
  },
  "language_info": {
   "codemirror_mode": {
    "name": "ipython",
    "version": 3
   },
   "file_extension": ".py",
   "mimetype": "text/x-python",
   "name": "python",
   "nbconvert_exporter": "python",
   "pygments_lexer": "ipython3",
   "version": "3.8.8"
  }
 },
 "nbformat": 4,
 "nbformat_minor": 5
}
